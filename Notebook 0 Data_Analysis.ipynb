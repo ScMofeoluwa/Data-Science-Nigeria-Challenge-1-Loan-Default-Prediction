{
 "cells": [
  {
   "cell_type": "markdown",
   "metadata": {},
   "source": [
    "# Exploratory Data Analysis (EDA)\n",
    "\n",
    "\n",
    "Lien vers la compétition : https://zindi.africa/competitions/data-science-nigeria-challenge-1-loan-default-prediction"
   ]
  },
  {
   "cell_type": "markdown",
   "metadata": {},
   "source": [
    "# Imports des librairies de bases\n",
    "\n",
    "On ajoutera celles qui manquent au fur et à mesure de nos besoins"
   ]
  },
  {
   "cell_type": "code",
   "execution_count": 1,
   "metadata": {},
   "outputs": [],
   "source": [
    "# To support both python 2 and python 3\n",
    "from __future__ import division, print_function, unicode_literals\n",
    "\n",
    "# Common imports\n",
    "import numpy as np\n",
    "import pandas as pd\n",
    "import os, gc\n",
    "import seaborn as sns"
   ]
  },
  {
   "cell_type": "markdown",
   "metadata": {},
   "source": [
    "# Définition de la seed pour le random\n",
    "\n",
    "Très important pour qu'on voit les mêmes choses entre nos deux ordis"
   ]
  },
  {
   "cell_type": "code",
   "execution_count": 2,
   "metadata": {},
   "outputs": [],
   "source": [
    "RANDOM_SEED = 42\n",
    "np.random.seed(RANDOM_SEED)"
   ]
  },
  {
   "cell_type": "markdown",
   "metadata": {},
   "source": [
    "# Définition des paramètres pour Matplot\n",
    "\n",
    "Rien de bien intéréssant"
   ]
  },
  {
   "cell_type": "code",
   "execution_count": 3,
   "metadata": {},
   "outputs": [],
   "source": [
    "# To plot pretty figures\n",
    "%matplotlib inline\n",
    "import matplotlib\n",
    "import matplotlib.pyplot as plt\n",
    "plt.rcParams['axes.labelsize'] = 14\n",
    "plt.rcParams['xtick.labelsize'] = 12\n",
    "plt.rcParams['ytick.labelsize'] = 12"
   ]
  },
  {
   "cell_type": "markdown",
   "metadata": {},
   "source": [
    "# Set des variables globales\n",
    "\n",
    "Attention, je n'utilise les variables globales pour la gestion des fichiers. Sinon, c'est mort"
   ]
  },
  {
   "cell_type": "code",
   "execution_count": 4,
   "metadata": {},
   "outputs": [],
   "source": [
    "# Where to save the figures\n",
    "PROJECT_ROOT_DIR = \".\"\n",
    "DATA_PATH = os.path.join(PROJECT_ROOT_DIR, \"raw_data\")\n",
    "DATA_PROCESSED = os.path.join(PROJECT_ROOT_DIR, \"processed_data\")"
   ]
  },
  {
   "cell_type": "markdown",
   "metadata": {},
   "source": [
    "# Fonction pour load les données\n",
    "\n",
    "En vrai, on a juste besoin de pd.read_csv, mais c'était pour faire joli"
   ]
  },
  {
   "cell_type": "code",
   "execution_count": 5,
   "metadata": {},
   "outputs": [],
   "source": [
    "def load_data(file,data_path=DATA_PATH, sep=','):\n",
    "    csv_path = os.path.join(data_path, file)\n",
    "    return pd.read_csv(csv_path, sep)"
   ]
  },
  {
   "cell_type": "markdown",
   "metadata": {},
   "source": [
    "# On load les jeux de données"
   ]
  },
  {
   "cell_type": "markdown",
   "metadata": {},
   "source": [
    "## Demographic data (traindemographics.csv)\n",
    "\n",
    "Des données sur les paolos"
   ]
  },
  {
   "cell_type": "code",
   "execution_count": 6,
   "metadata": {},
   "outputs": [],
   "source": [
    "train_demo = load_data(file = \"train/traindemographics.csv\")"
   ]
  },
  {
   "cell_type": "code",
   "execution_count": 7,
   "metadata": {},
   "outputs": [
    {
     "data": {
      "text/html": [
       "<div>\n",
       "<style scoped>\n",
       "    .dataframe tbody tr th:only-of-type {\n",
       "        vertical-align: middle;\n",
       "    }\n",
       "\n",
       "    .dataframe tbody tr th {\n",
       "        vertical-align: top;\n",
       "    }\n",
       "\n",
       "    .dataframe thead th {\n",
       "        text-align: right;\n",
       "    }\n",
       "</style>\n",
       "<table border=\"1\" class=\"dataframe\">\n",
       "  <thead>\n",
       "    <tr style=\"text-align: right;\">\n",
       "      <th></th>\n",
       "      <th>customerid</th>\n",
       "      <th>birthdate</th>\n",
       "      <th>bank_account_type</th>\n",
       "      <th>longitude_gps</th>\n",
       "      <th>latitude_gps</th>\n",
       "      <th>bank_name_clients</th>\n",
       "      <th>bank_branch_clients</th>\n",
       "      <th>employment_status_clients</th>\n",
       "      <th>level_of_education_clients</th>\n",
       "    </tr>\n",
       "  </thead>\n",
       "  <tbody>\n",
       "    <tr>\n",
       "      <th>0</th>\n",
       "      <td>8a858e135cb22031015cbafc76964ebd</td>\n",
       "      <td>1973-10-10 00:00:00.000000</td>\n",
       "      <td>Savings</td>\n",
       "      <td>3.319219</td>\n",
       "      <td>6.528604</td>\n",
       "      <td>GT Bank</td>\n",
       "      <td>NaN</td>\n",
       "      <td>NaN</td>\n",
       "      <td>NaN</td>\n",
       "    </tr>\n",
       "    <tr>\n",
       "      <th>1</th>\n",
       "      <td>8a858e275c7ea5ec015c82482d7c3996</td>\n",
       "      <td>1986-01-21 00:00:00.000000</td>\n",
       "      <td>Savings</td>\n",
       "      <td>3.325598</td>\n",
       "      <td>7.119403</td>\n",
       "      <td>Sterling Bank</td>\n",
       "      <td>NaN</td>\n",
       "      <td>Permanent</td>\n",
       "      <td>NaN</td>\n",
       "    </tr>\n",
       "    <tr>\n",
       "      <th>2</th>\n",
       "      <td>8a858e5b5bd99460015bdc95cd485634</td>\n",
       "      <td>1987-04-01 00:00:00.000000</td>\n",
       "      <td>Savings</td>\n",
       "      <td>5.746100</td>\n",
       "      <td>5.563174</td>\n",
       "      <td>Fidelity Bank</td>\n",
       "      <td>NaN</td>\n",
       "      <td>NaN</td>\n",
       "      <td>NaN</td>\n",
       "    </tr>\n",
       "    <tr>\n",
       "      <th>3</th>\n",
       "      <td>8a858efd5ca70688015cabd1f1e94b55</td>\n",
       "      <td>1991-07-19 00:00:00.000000</td>\n",
       "      <td>Savings</td>\n",
       "      <td>3.362850</td>\n",
       "      <td>6.642485</td>\n",
       "      <td>GT Bank</td>\n",
       "      <td>NaN</td>\n",
       "      <td>Permanent</td>\n",
       "      <td>NaN</td>\n",
       "    </tr>\n",
       "    <tr>\n",
       "      <th>4</th>\n",
       "      <td>8a858e785acd3412015acd48f4920d04</td>\n",
       "      <td>1982-11-22 00:00:00.000000</td>\n",
       "      <td>Savings</td>\n",
       "      <td>8.455332</td>\n",
       "      <td>11.971410</td>\n",
       "      <td>GT Bank</td>\n",
       "      <td>NaN</td>\n",
       "      <td>Permanent</td>\n",
       "      <td>NaN</td>\n",
       "    </tr>\n",
       "  </tbody>\n",
       "</table>\n",
       "</div>"
      ],
      "text/plain": [
       "                         customerid                   birthdate  \\\n",
       "0  8a858e135cb22031015cbafc76964ebd  1973-10-10 00:00:00.000000   \n",
       "1  8a858e275c7ea5ec015c82482d7c3996  1986-01-21 00:00:00.000000   \n",
       "2  8a858e5b5bd99460015bdc95cd485634  1987-04-01 00:00:00.000000   \n",
       "3  8a858efd5ca70688015cabd1f1e94b55  1991-07-19 00:00:00.000000   \n",
       "4  8a858e785acd3412015acd48f4920d04  1982-11-22 00:00:00.000000   \n",
       "\n",
       "  bank_account_type  longitude_gps  latitude_gps bank_name_clients  \\\n",
       "0           Savings       3.319219      6.528604           GT Bank   \n",
       "1           Savings       3.325598      7.119403     Sterling Bank   \n",
       "2           Savings       5.746100      5.563174     Fidelity Bank   \n",
       "3           Savings       3.362850      6.642485           GT Bank   \n",
       "4           Savings       8.455332     11.971410           GT Bank   \n",
       "\n",
       "  bank_branch_clients employment_status_clients level_of_education_clients  \n",
       "0                 NaN                       NaN                        NaN  \n",
       "1                 NaN                 Permanent                        NaN  \n",
       "2                 NaN                       NaN                        NaN  \n",
       "3                 NaN                 Permanent                        NaN  \n",
       "4                 NaN                 Permanent                        NaN  "
      ]
     },
     "execution_count": 7,
     "metadata": {},
     "output_type": "execute_result"
    }
   ],
   "source": [
    "train_demo.head()"
   ]
  },
  {
   "cell_type": "markdown",
   "metadata": {},
   "source": [
    "### Performance data (trainperf.csv)\n",
    "\n",
    "\"This is the repeat loan that the customer has taken for which we need to predict the performance of. Basically, we need to predict if whether this loan would default given all previous loans and demographics of a customer.\""
   ]
  },
  {
   "cell_type": "code",
   "execution_count": 8,
   "metadata": {},
   "outputs": [],
   "source": [
    "train_perf = load_data(file = \"train/trainperf.csv\")"
   ]
  },
  {
   "cell_type": "markdown",
   "metadata": {},
   "source": [
    "### Previous loans data (trainprevloans.csv)\n",
    "\n",
    "\"This dataset contains all previous loans that the customer had prior to the loan above that we want to predict the performance of. Each loan will have a different systemloanid, but the same customerid for each customer.\""
   ]
  },
  {
   "cell_type": "code",
   "execution_count": 9,
   "metadata": {},
   "outputs": [],
   "source": [
    "train_prev_loans = load_data(file = \"train/trainprevloans.csv\")"
   ]
  },
  {
   "cell_type": "markdown",
   "metadata": {},
   "source": [
    "# Changement des catégories, et feature évident"
   ]
  },
  {
   "cell_type": "markdown",
   "metadata": {},
   "source": [
    "## train_demo"
   ]
  },
  {
   "cell_type": "markdown",
   "metadata": {},
   "source": [
    "### Vérification de la cléf primaire\n",
    "#### customerid (Primary key used to merge to other data)"
   ]
  },
  {
   "cell_type": "code",
   "execution_count": 10,
   "metadata": {
    "scrolled": true
   },
   "outputs": [
    {
     "data": {
      "text/html": [
       "<div>\n",
       "<style scoped>\n",
       "    .dataframe tbody tr th:only-of-type {\n",
       "        vertical-align: middle;\n",
       "    }\n",
       "\n",
       "    .dataframe tbody tr th {\n",
       "        vertical-align: top;\n",
       "    }\n",
       "\n",
       "    .dataframe thead th {\n",
       "        text-align: right;\n",
       "    }\n",
       "</style>\n",
       "<table border=\"1\" class=\"dataframe\">\n",
       "  <thead>\n",
       "    <tr style=\"text-align: right;\">\n",
       "      <th></th>\n",
       "      <th>customerid</th>\n",
       "      <th>birthdate</th>\n",
       "      <th>bank_account_type</th>\n",
       "      <th>longitude_gps</th>\n",
       "      <th>latitude_gps</th>\n",
       "      <th>bank_name_clients</th>\n",
       "      <th>bank_branch_clients</th>\n",
       "      <th>employment_status_clients</th>\n",
       "      <th>level_of_education_clients</th>\n",
       "    </tr>\n",
       "  </thead>\n",
       "  <tbody>\n",
       "    <tr>\n",
       "      <th>1414</th>\n",
       "      <td>8a858e625c8d993a015c938f829f77ee</td>\n",
       "      <td>1988-12-20 00:00:00.000000</td>\n",
       "      <td>Savings</td>\n",
       "      <td>5.768333</td>\n",
       "      <td>5.561992</td>\n",
       "      <td>First Bank</td>\n",
       "      <td>NaN</td>\n",
       "      <td>Permanent</td>\n",
       "      <td>NaN</td>\n",
       "    </tr>\n",
       "    <tr>\n",
       "      <th>1928</th>\n",
       "      <td>8a858e625c8d993a015c938f829f77ee</td>\n",
       "      <td>1988-12-20 00:00:00.000000</td>\n",
       "      <td>Savings</td>\n",
       "      <td>5.768333</td>\n",
       "      <td>5.561992</td>\n",
       "      <td>First Bank</td>\n",
       "      <td>NaN</td>\n",
       "      <td>Permanent</td>\n",
       "      <td>NaN</td>\n",
       "    </tr>\n",
       "    <tr>\n",
       "      <th>445</th>\n",
       "      <td>8a858e6c5c88d145015c8b9627cd5a48</td>\n",
       "      <td>1979-09-30 00:00:00.000000</td>\n",
       "      <td>Savings</td>\n",
       "      <td>3.367008</td>\n",
       "      <td>6.497313</td>\n",
       "      <td>Sterling Bank</td>\n",
       "      <td>NaN</td>\n",
       "      <td>Permanent</td>\n",
       "      <td>NaN</td>\n",
       "    </tr>\n",
       "    <tr>\n",
       "      <th>1090</th>\n",
       "      <td>8a858e6c5c88d145015c8b9627cd5a48</td>\n",
       "      <td>1979-09-30 00:00:00.000000</td>\n",
       "      <td>Savings</td>\n",
       "      <td>3.367008</td>\n",
       "      <td>6.497313</td>\n",
       "      <td>Sterling Bank</td>\n",
       "      <td>NaN</td>\n",
       "      <td>Permanent</td>\n",
       "      <td>NaN</td>\n",
       "    </tr>\n",
       "    <tr>\n",
       "      <th>1996</th>\n",
       "      <td>8a858ec65cc6352b015cc64525ea0763</td>\n",
       "      <td>1985-01-30 00:00:00.000000</td>\n",
       "      <td>Savings</td>\n",
       "      <td>3.845728</td>\n",
       "      <td>7.411737</td>\n",
       "      <td>GT Bank</td>\n",
       "      <td>NaN</td>\n",
       "      <td>Permanent</td>\n",
       "      <td>NaN</td>\n",
       "    </tr>\n",
       "    <tr>\n",
       "      <th>1520</th>\n",
       "      <td>8a858ec65cc6352b015cc64525ea0763</td>\n",
       "      <td>1985-01-30 00:00:00.000000</td>\n",
       "      <td>Savings</td>\n",
       "      <td>3.845728</td>\n",
       "      <td>7.411737</td>\n",
       "      <td>GT Bank</td>\n",
       "      <td>NaN</td>\n",
       "      <td>Permanent</td>\n",
       "      <td>NaN</td>\n",
       "    </tr>\n",
       "    <tr>\n",
       "      <th>272</th>\n",
       "      <td>8a858edd57f790040157ffe9b6ed3fbb</td>\n",
       "      <td>1988-01-18 00:00:00.000000</td>\n",
       "      <td>Other</td>\n",
       "      <td>3.782563</td>\n",
       "      <td>7.171356</td>\n",
       "      <td>First Bank</td>\n",
       "      <td>NaN</td>\n",
       "      <td>Permanent</td>\n",
       "      <td>Secondary</td>\n",
       "    </tr>\n",
       "    <tr>\n",
       "      <th>517</th>\n",
       "      <td>8a858edd57f790040157ffe9b6ed3fbb</td>\n",
       "      <td>1988-01-18 00:00:00.000000</td>\n",
       "      <td>Other</td>\n",
       "      <td>3.782563</td>\n",
       "      <td>7.171356</td>\n",
       "      <td>First Bank</td>\n",
       "      <td>NaN</td>\n",
       "      <td>Permanent</td>\n",
       "      <td>Secondary</td>\n",
       "    </tr>\n",
       "    <tr>\n",
       "      <th>4126</th>\n",
       "      <td>8a858f1e5baffcc9015bb02b505f180d</td>\n",
       "      <td>1983-04-06 00:00:00.000000</td>\n",
       "      <td>Savings</td>\n",
       "      <td>6.969350</td>\n",
       "      <td>4.818535</td>\n",
       "      <td>GT Bank</td>\n",
       "      <td>NaN</td>\n",
       "      <td>Permanent</td>\n",
       "      <td>NaN</td>\n",
       "    </tr>\n",
       "    <tr>\n",
       "      <th>3021</th>\n",
       "      <td>8a858f1e5baffcc9015bb02b505f180d</td>\n",
       "      <td>1983-04-06 00:00:00.000000</td>\n",
       "      <td>Savings</td>\n",
       "      <td>6.969350</td>\n",
       "      <td>4.818535</td>\n",
       "      <td>GT Bank</td>\n",
       "      <td>NaN</td>\n",
       "      <td>Permanent</td>\n",
       "      <td>NaN</td>\n",
       "    </tr>\n",
       "    <tr>\n",
       "      <th>4115</th>\n",
       "      <td>8a858f1e5cc4bc81015cc548e1eb5206</td>\n",
       "      <td>1979-09-15 00:00:00.000000</td>\n",
       "      <td>Savings</td>\n",
       "      <td>6.285242</td>\n",
       "      <td>4.922719</td>\n",
       "      <td>UBA</td>\n",
       "      <td>NaN</td>\n",
       "      <td>Permanent</td>\n",
       "      <td>NaN</td>\n",
       "    </tr>\n",
       "    <tr>\n",
       "      <th>4266</th>\n",
       "      <td>8a858f1e5cc4bc81015cc548e1eb5206</td>\n",
       "      <td>1979-09-15 00:00:00.000000</td>\n",
       "      <td>Savings</td>\n",
       "      <td>6.285242</td>\n",
       "      <td>4.922719</td>\n",
       "      <td>UBA</td>\n",
       "      <td>NaN</td>\n",
       "      <td>Permanent</td>\n",
       "      <td>NaN</td>\n",
       "    </tr>\n",
       "    <tr>\n",
       "      <th>750</th>\n",
       "      <td>8a858f965bb63a25015bbf63fd062e2e</td>\n",
       "      <td>1974-02-25 00:00:00.000000</td>\n",
       "      <td>Savings</td>\n",
       "      <td>3.936366</td>\n",
       "      <td>6.817957</td>\n",
       "      <td>Stanbic IBTC</td>\n",
       "      <td>NaN</td>\n",
       "      <td>Permanent</td>\n",
       "      <td>NaN</td>\n",
       "    </tr>\n",
       "    <tr>\n",
       "      <th>776</th>\n",
       "      <td>8a858f965bb63a25015bbf63fd062e2e</td>\n",
       "      <td>1974-02-25 00:00:00.000000</td>\n",
       "      <td>Savings</td>\n",
       "      <td>3.936366</td>\n",
       "      <td>6.817957</td>\n",
       "      <td>Stanbic IBTC</td>\n",
       "      <td>NaN</td>\n",
       "      <td>Permanent</td>\n",
       "      <td>NaN</td>\n",
       "    </tr>\n",
       "    <tr>\n",
       "      <th>4286</th>\n",
       "      <td>8a858f9f5679951a01567a5b90644817</td>\n",
       "      <td>1984-12-17 00:00:00.000000</td>\n",
       "      <td>Savings</td>\n",
       "      <td>4.196662</td>\n",
       "      <td>12.429509</td>\n",
       "      <td>Access Bank</td>\n",
       "      <td>NaN</td>\n",
       "      <td>Permanent</td>\n",
       "      <td>NaN</td>\n",
       "    </tr>\n",
       "    <tr>\n",
       "      <th>3546</th>\n",
       "      <td>8a858f9f5679951a01567a5b90644817</td>\n",
       "      <td>1984-12-17 00:00:00.000000</td>\n",
       "      <td>Savings</td>\n",
       "      <td>4.196662</td>\n",
       "      <td>12.429509</td>\n",
       "      <td>Access Bank</td>\n",
       "      <td>NaN</td>\n",
       "      <td>Permanent</td>\n",
       "      <td>NaN</td>\n",
       "    </tr>\n",
       "    <tr>\n",
       "      <th>1188</th>\n",
       "      <td>8a858fc75cd62882015cdaf2f4311b3f</td>\n",
       "      <td>1975-10-27 00:00:00.000000</td>\n",
       "      <td>Savings</td>\n",
       "      <td>7.437607</td>\n",
       "      <td>9.088935</td>\n",
       "      <td>GT Bank</td>\n",
       "      <td>NaN</td>\n",
       "      <td>Permanent</td>\n",
       "      <td>NaN</td>\n",
       "    </tr>\n",
       "    <tr>\n",
       "      <th>798</th>\n",
       "      <td>8a858fc75cd62882015cdaf2f4311b3f</td>\n",
       "      <td>1975-10-27 00:00:00.000000</td>\n",
       "      <td>Savings</td>\n",
       "      <td>7.437607</td>\n",
       "      <td>9.088935</td>\n",
       "      <td>GT Bank</td>\n",
       "      <td>NaN</td>\n",
       "      <td>Permanent</td>\n",
       "      <td>NaN</td>\n",
       "    </tr>\n",
       "    <tr>\n",
       "      <th>159</th>\n",
       "      <td>8a858fca5c35df2c015c39ad8695343e</td>\n",
       "      <td>1980-11-26 00:00:00.000000</td>\n",
       "      <td>Savings</td>\n",
       "      <td>3.352588</td>\n",
       "      <td>7.211089</td>\n",
       "      <td>GT Bank</td>\n",
       "      <td>NaN</td>\n",
       "      <td>Permanent</td>\n",
       "      <td>NaN</td>\n",
       "    </tr>\n",
       "    <tr>\n",
       "      <th>138</th>\n",
       "      <td>8a858fca5c35df2c015c39ad8695343e</td>\n",
       "      <td>1980-11-26 00:00:00.000000</td>\n",
       "      <td>Savings</td>\n",
       "      <td>3.352588</td>\n",
       "      <td>7.211089</td>\n",
       "      <td>GT Bank</td>\n",
       "      <td>NaN</td>\n",
       "      <td>Permanent</td>\n",
       "      <td>NaN</td>\n",
       "    </tr>\n",
       "    <tr>\n",
       "      <th>1338</th>\n",
       "      <td>8a858fe05d421ff4015d4c87d2a21ceb</td>\n",
       "      <td>1983-01-20 00:00:00.000000</td>\n",
       "      <td>Savings</td>\n",
       "      <td>8.526960</td>\n",
       "      <td>12.023015</td>\n",
       "      <td>Skye Bank</td>\n",
       "      <td>NaN</td>\n",
       "      <td>Permanent</td>\n",
       "      <td>NaN</td>\n",
       "    </tr>\n",
       "    <tr>\n",
       "      <th>1480</th>\n",
       "      <td>8a858fe05d421ff4015d4c87d2a21ceb</td>\n",
       "      <td>1983-01-20 00:00:00.000000</td>\n",
       "      <td>Savings</td>\n",
       "      <td>8.526960</td>\n",
       "      <td>12.023015</td>\n",
       "      <td>Skye Bank</td>\n",
       "      <td>NaN</td>\n",
       "      <td>Permanent</td>\n",
       "      <td>NaN</td>\n",
       "    </tr>\n",
       "    <tr>\n",
       "      <th>1015</th>\n",
       "      <td>8a858fe65675195a015679452588279c</td>\n",
       "      <td>1982-08-01 00:00:00.000000</td>\n",
       "      <td>Savings</td>\n",
       "      <td>7.533646</td>\n",
       "      <td>9.046885</td>\n",
       "      <td>UBA</td>\n",
       "      <td>NaN</td>\n",
       "      <td>Permanent</td>\n",
       "      <td>NaN</td>\n",
       "    </tr>\n",
       "    <tr>\n",
       "      <th>1010</th>\n",
       "      <td>8a858fe65675195a015679452588279c</td>\n",
       "      <td>1982-08-01 00:00:00.000000</td>\n",
       "      <td>Savings</td>\n",
       "      <td>7.533646</td>\n",
       "      <td>9.046885</td>\n",
       "      <td>UBA</td>\n",
       "      <td>NaN</td>\n",
       "      <td>Permanent</td>\n",
       "      <td>NaN</td>\n",
       "    </tr>\n",
       "  </tbody>\n",
       "</table>\n",
       "</div>"
      ],
      "text/plain": [
       "                            customerid                   birthdate  \\\n",
       "1414  8a858e625c8d993a015c938f829f77ee  1988-12-20 00:00:00.000000   \n",
       "1928  8a858e625c8d993a015c938f829f77ee  1988-12-20 00:00:00.000000   \n",
       "445   8a858e6c5c88d145015c8b9627cd5a48  1979-09-30 00:00:00.000000   \n",
       "1090  8a858e6c5c88d145015c8b9627cd5a48  1979-09-30 00:00:00.000000   \n",
       "1996  8a858ec65cc6352b015cc64525ea0763  1985-01-30 00:00:00.000000   \n",
       "1520  8a858ec65cc6352b015cc64525ea0763  1985-01-30 00:00:00.000000   \n",
       "272   8a858edd57f790040157ffe9b6ed3fbb  1988-01-18 00:00:00.000000   \n",
       "517   8a858edd57f790040157ffe9b6ed3fbb  1988-01-18 00:00:00.000000   \n",
       "4126  8a858f1e5baffcc9015bb02b505f180d  1983-04-06 00:00:00.000000   \n",
       "3021  8a858f1e5baffcc9015bb02b505f180d  1983-04-06 00:00:00.000000   \n",
       "4115  8a858f1e5cc4bc81015cc548e1eb5206  1979-09-15 00:00:00.000000   \n",
       "4266  8a858f1e5cc4bc81015cc548e1eb5206  1979-09-15 00:00:00.000000   \n",
       "750   8a858f965bb63a25015bbf63fd062e2e  1974-02-25 00:00:00.000000   \n",
       "776   8a858f965bb63a25015bbf63fd062e2e  1974-02-25 00:00:00.000000   \n",
       "4286  8a858f9f5679951a01567a5b90644817  1984-12-17 00:00:00.000000   \n",
       "3546  8a858f9f5679951a01567a5b90644817  1984-12-17 00:00:00.000000   \n",
       "1188  8a858fc75cd62882015cdaf2f4311b3f  1975-10-27 00:00:00.000000   \n",
       "798   8a858fc75cd62882015cdaf2f4311b3f  1975-10-27 00:00:00.000000   \n",
       "159   8a858fca5c35df2c015c39ad8695343e  1980-11-26 00:00:00.000000   \n",
       "138   8a858fca5c35df2c015c39ad8695343e  1980-11-26 00:00:00.000000   \n",
       "1338  8a858fe05d421ff4015d4c87d2a21ceb  1983-01-20 00:00:00.000000   \n",
       "1480  8a858fe05d421ff4015d4c87d2a21ceb  1983-01-20 00:00:00.000000   \n",
       "1015  8a858fe65675195a015679452588279c  1982-08-01 00:00:00.000000   \n",
       "1010  8a858fe65675195a015679452588279c  1982-08-01 00:00:00.000000   \n",
       "\n",
       "     bank_account_type  longitude_gps  latitude_gps bank_name_clients  \\\n",
       "1414           Savings       5.768333      5.561992        First Bank   \n",
       "1928           Savings       5.768333      5.561992        First Bank   \n",
       "445            Savings       3.367008      6.497313     Sterling Bank   \n",
       "1090           Savings       3.367008      6.497313     Sterling Bank   \n",
       "1996           Savings       3.845728      7.411737           GT Bank   \n",
       "1520           Savings       3.845728      7.411737           GT Bank   \n",
       "272              Other       3.782563      7.171356        First Bank   \n",
       "517              Other       3.782563      7.171356        First Bank   \n",
       "4126           Savings       6.969350      4.818535           GT Bank   \n",
       "3021           Savings       6.969350      4.818535           GT Bank   \n",
       "4115           Savings       6.285242      4.922719               UBA   \n",
       "4266           Savings       6.285242      4.922719               UBA   \n",
       "750            Savings       3.936366      6.817957      Stanbic IBTC   \n",
       "776            Savings       3.936366      6.817957      Stanbic IBTC   \n",
       "4286           Savings       4.196662     12.429509       Access Bank   \n",
       "3546           Savings       4.196662     12.429509       Access Bank   \n",
       "1188           Savings       7.437607      9.088935           GT Bank   \n",
       "798            Savings       7.437607      9.088935           GT Bank   \n",
       "159            Savings       3.352588      7.211089           GT Bank   \n",
       "138            Savings       3.352588      7.211089           GT Bank   \n",
       "1338           Savings       8.526960     12.023015         Skye Bank   \n",
       "1480           Savings       8.526960     12.023015         Skye Bank   \n",
       "1015           Savings       7.533646      9.046885               UBA   \n",
       "1010           Savings       7.533646      9.046885               UBA   \n",
       "\n",
       "     bank_branch_clients employment_status_clients level_of_education_clients  \n",
       "1414                 NaN                 Permanent                        NaN  \n",
       "1928                 NaN                 Permanent                        NaN  \n",
       "445                  NaN                 Permanent                        NaN  \n",
       "1090                 NaN                 Permanent                        NaN  \n",
       "1996                 NaN                 Permanent                        NaN  \n",
       "1520                 NaN                 Permanent                        NaN  \n",
       "272                  NaN                 Permanent                  Secondary  \n",
       "517                  NaN                 Permanent                  Secondary  \n",
       "4126                 NaN                 Permanent                        NaN  \n",
       "3021                 NaN                 Permanent                        NaN  \n",
       "4115                 NaN                 Permanent                        NaN  \n",
       "4266                 NaN                 Permanent                        NaN  \n",
       "750                  NaN                 Permanent                        NaN  \n",
       "776                  NaN                 Permanent                        NaN  \n",
       "4286                 NaN                 Permanent                        NaN  \n",
       "3546                 NaN                 Permanent                        NaN  \n",
       "1188                 NaN                 Permanent                        NaN  \n",
       "798                  NaN                 Permanent                        NaN  \n",
       "159                  NaN                 Permanent                        NaN  \n",
       "138                  NaN                 Permanent                        NaN  \n",
       "1338                 NaN                 Permanent                        NaN  \n",
       "1480                 NaN                 Permanent                        NaN  \n",
       "1015                 NaN                 Permanent                        NaN  \n",
       "1010                 NaN                 Permanent                        NaN  "
      ]
     },
     "execution_count": 10,
     "metadata": {},
     "output_type": "execute_result"
    }
   ],
   "source": [
    "train_demo[train_demo['customerid'].duplicated(keep=False)].sort_values('customerid')"
   ]
  },
  {
   "cell_type": "markdown",
   "metadata": {},
   "source": [
    "24 doublons de clefs, mais c'est des lignes en double, on peut virer sans crainte"
   ]
  },
  {
   "cell_type": "code",
   "execution_count": 11,
   "metadata": {},
   "outputs": [],
   "source": [
    "train_demo = train_demo.drop_duplicates(subset='customerid', keep='first', inplace=False)"
   ]
  },
  {
   "cell_type": "markdown",
   "metadata": {},
   "source": [
    "### Changement de birthday\n",
    "\n",
    "#### birthdate (date of birth of the customer)"
   ]
  },
  {
   "cell_type": "code",
   "execution_count": 12,
   "metadata": {},
   "outputs": [],
   "source": [
    "# on le met en format \"date_time\" pour être plus simple à manipuler\n",
    "train_demo[\"birthdate\"] = pd.to_datetime(train_demo[\"birthdate\"])\n",
    "\n",
    "# Et on crée trois colonnes : Year, Month et Day\n",
    "train_demo[\"birthdate_year\"] = pd.to_datetime(train_demo[\"birthdate\"]).dt.year\n",
    "train_demo[\"birthdate_month\"] = pd.to_datetime(train_demo[\"birthdate\"]).dt.month\n",
    "train_demo[\"birthdate_day\"] = pd.to_datetime(train_demo[\"birthdate\"]).dt.day\n",
    "\n",
    "# on ne vire pas tout de suite la colonne initiale 'birthdate', on verra si elle est utile plus tard"
   ]
  },
  {
   "cell_type": "markdown",
   "metadata": {},
   "source": [
    "### bank_account_type\n",
    "\n",
    "#### bank_account_type (type of primary bank account)"
   ]
  },
  {
   "cell_type": "code",
   "execution_count": 13,
   "metadata": {},
   "outputs": [
    {
     "data": {
      "text/plain": [
       "Savings    3414\n",
       "Other       864\n",
       "Current      56\n",
       "Name: bank_account_type, dtype: int64"
      ]
     },
     "execution_count": 13,
     "metadata": {},
     "output_type": "execute_result"
    }
   ],
   "source": [
    "train_demo[\"bank_account_type\"].value_counts()"
   ]
  },
  {
   "cell_type": "markdown",
   "metadata": {},
   "source": [
    "Ok, 56 comptes courants face aux 3414 de comptes épargnes, on va la rentrer dans \"Other\", pas la peine de garder cette cardinalité pour cette variable"
   ]
  },
  {
   "cell_type": "code",
   "execution_count": 14,
   "metadata": {},
   "outputs": [],
   "source": [
    "train_demo[\"bank_account_type\"] = train_demo[\"bank_account_type\"].replace(\"Current\", \"Other\")"
   ]
  },
  {
   "cell_type": "code",
   "execution_count": 15,
   "metadata": {},
   "outputs": [
    {
     "data": {
      "text/plain": [
       "Savings    3414\n",
       "Other       920\n",
       "Name: bank_account_type, dtype: int64"
      ]
     },
     "execution_count": 15,
     "metadata": {},
     "output_type": "execute_result"
    }
   ],
   "source": [
    "train_demo[\"bank_account_type\"].value_counts()"
   ]
  },
  {
   "cell_type": "markdown",
   "metadata": {},
   "source": [
    "### longitude_gps & latitude_gps"
   ]
  },
  {
   "cell_type": "code",
   "execution_count": 16,
   "metadata": {},
   "outputs": [
    {
     "data": {
      "text/plain": [
       "count    4334.000000\n",
       "mean        4.624000\n",
       "std         7.194031\n",
       "min      -118.247009\n",
       "25%         3.354857\n",
       "50%         3.591668\n",
       "75%         6.543691\n",
       "max       151.209290\n",
       "Name: longitude_gps, dtype: float64"
      ]
     },
     "execution_count": 16,
     "metadata": {},
     "output_type": "execute_result"
    }
   ],
   "source": [
    "train_demo[\"longitude_gps\"].describe()"
   ]
  },
  {
   "cell_type": "markdown",
   "metadata": {},
   "source": [
    "Hou les jolis outliers : la moyenne est à 4 (std 7), mais les -118 et 151 semblent être des erreurs. On les remplace par des valeurs vides"
   ]
  },
  {
   "cell_type": "code",
   "execution_count": 17,
   "metadata": {},
   "outputs": [],
   "source": [
    "train_demo[\"longitude_gps\"] = train_demo[\"longitude_gps\"] \\\n",
    "                                .where(train_demo[\"longitude_gps\"] < 20)\\\n",
    "                                .where(train_demo[\"longitude_gps\"] > -20)"
   ]
  },
  {
   "cell_type": "code",
   "execution_count": 18,
   "metadata": {},
   "outputs": [
    {
     "data": {
      "text/plain": [
       "count    4334.000000\n",
       "mean        7.249975\n",
       "std         3.056594\n",
       "min       -33.868818\n",
       "25%         6.470610\n",
       "50%         6.621730\n",
       "75%         7.425021\n",
       "max        71.228069\n",
       "Name: latitude_gps, dtype: float64"
      ]
     },
     "execution_count": 18,
     "metadata": {},
     "output_type": "execute_result"
    }
   ],
   "source": [
    "train_demo[\"latitude_gps\"].describe()"
   ]
  },
  {
   "cell_type": "markdown",
   "metadata": {},
   "source": [
    "Pareil pour ce Pépito"
   ]
  },
  {
   "cell_type": "code",
   "execution_count": 19,
   "metadata": {},
   "outputs": [],
   "source": [
    "train_demo[\"latitude_gps\"] = train_demo[\"latitude_gps\"]\\\n",
    "                            .where(train_demo[\"latitude_gps\"] < 20)\\\n",
    "                            .where(train_demo[\"latitude_gps\"] > -20)"
   ]
  },
  {
   "cell_type": "markdown",
   "metadata": {},
   "source": [
    "Faisons un peu de dataviz pour voir le résultat"
   ]
  },
  {
   "cell_type": "code",
   "execution_count": 20,
   "metadata": {},
   "outputs": [
    {
     "data": {
      "text/plain": [
       "<seaborn.axisgrid.JointGrid at 0x19dc7e27978>"
      ]
     },
     "execution_count": 20,
     "metadata": {},
     "output_type": "execute_result"
    },
    {
     "data": {
      "image/png": "[encoded data removed]",
      "text/plain": [
       "<Figure size 432x432 with 3 Axes>"
      ]
     },
     "metadata": {},
     "output_type": "display_data"
    }
   ],
   "source": [
    "sns.jointplot(x=\"longitude_gps\", y=\"longitude_gps\", data=train_demo, kind=\"kde\")"
   ]
  },
  {
   "cell_type": "markdown",
   "metadata": {},
   "source": [
    "Et bien voilà, ça c'est joli à voir, allez, on passe à la suite"
   ]
  },
  {
   "cell_type": "markdown",
   "metadata": {},
   "source": [
    "### bank_name_clients\n",
    "\n",
    "#### En cours"
   ]
  },
  {
   "cell_type": "code",
   "execution_count": 21,
   "metadata": {},
   "outputs": [
    {
     "data": {
      "text/plain": [
       "GT Bank               1594\n",
       "First Bank             588\n",
       "Access Bank            431\n",
       "UBA                    351\n",
       "Zenith Bank            301\n",
       "Diamond Bank           282\n",
       "EcoBank                150\n",
       "Stanbic IBTC           144\n",
       "FCMB                   121\n",
       "Fidelity Bank          103\n",
       "Skye Bank              101\n",
       "Sterling Bank           54\n",
       "Wema Bank               28\n",
       "Union Bank              23\n",
       "Heritage Bank           22\n",
       "Keystone Bank           19\n",
       "Standard Chartered      15\n",
       "Unity Bank               7\n",
       "Name: bank_name_clients, dtype: int64"
      ]
     },
     "execution_count": 21,
     "metadata": {},
     "output_type": "execute_result"
    }
   ],
   "source": [
    "train_demo[\"bank_name_clients\"].value_counts()"
   ]
  },
  {
   "cell_type": "code",
   "execution_count": 22,
   "metadata": {},
   "outputs": [],
   "source": [
    "banks_total_assets={'Access Bank':12200000000,\n",
    "                    'Diamond Bank': 7300000000,\n",
    "                    'EcoBank': 8100000000,\n",
    "                    'FCMB': 3700000000,\n",
    "                    'Fidelity Bank': 4200000000,\n",
    "                    'First Bank': 12420329012,\n",
    "                    'GT Bank': 8693261120,\n",
    "                    'Heritage Bank': 1700000000,\n",
    "                    'Keystone Bank': 1916000000,\n",
    "                    'Skye Bank': 3900000000,\n",
    "                    'Stanbic IBTC': 3906465440,\n",
    "                    'Standard Chartered': 663501000,\n",
    "                    'Sterling Bank': 2294360688,\n",
    "                    'UBA': 11006397601,\n",
    "                    'Union Bank': 41000000,\n",
    "                    'Unity Bank': 245000000,\n",
    "                    'Wema Bank': 1158184,\n",
    "                    'Zenith Bank': 13039410249\n",
    "                   }"
   ]
  },
  {
   "cell_type": "code",
   "execution_count": 23,
   "metadata": {},
   "outputs": [],
   "source": [
    "train_demo[\"bank_total_assets\"] = train_demo[\"bank_name_clients\"].map(banks_total_assets)"
   ]
  },
  {
   "cell_type": "code",
   "execution_count": 24,
   "metadata": {},
   "outputs": [
    {
     "name": "stdout",
     "output_type": "stream",
     "text": [
      "<class 'pandas.core.frame.DataFrame'>\n",
      "Int64Index: 4334 entries, 0 to 4345\n",
      "Data columns (total 13 columns):\n",
      "customerid                    4334 non-null object\n",
      "birthdate                     4334 non-null datetime64[ns]\n",
      "bank_account_type             4334 non-null object\n",
      "longitude_gps                 4311 non-null float64\n",
      "latitude_gps                  4307 non-null float64\n",
      "bank_name_clients             4334 non-null object\n",
      "bank_branch_clients           51 non-null object\n",
      "employment_status_clients     3686 non-null object\n",
      "level_of_education_clients    586 non-null object\n",
      "birthdate_year                4334 non-null int64\n",
      "birthdate_month               4334 non-null int64\n",
      "birthdate_day                 4334 non-null int64\n",
      "bank_total_assets             4334 non-null int64\n",
      "dtypes: datetime64[ns](1), float64(2), int64(4), object(6)\n",
      "memory usage: 474.0+ KB\n"
     ]
    }
   ],
   "source": [
    "train_demo.info()"
   ]
  },
  {
   "cell_type": "code",
   "execution_count": 25,
   "metadata": {},
   "outputs": [
    {
     "data": {
      "text/html": [
       "<div>\n",
       "<style scoped>\n",
       "    .dataframe tbody tr th:only-of-type {\n",
       "        vertical-align: middle;\n",
       "    }\n",
       "\n",
       "    .dataframe tbody tr th {\n",
       "        vertical-align: top;\n",
       "    }\n",
       "\n",
       "    .dataframe thead th {\n",
       "        text-align: right;\n",
       "    }\n",
       "</style>\n",
       "<table border=\"1\" class=\"dataframe\">\n",
       "  <thead>\n",
       "    <tr style=\"text-align: right;\">\n",
       "      <th></th>\n",
       "      <th>customerid</th>\n",
       "      <th>birthdate</th>\n",
       "      <th>bank_account_type</th>\n",
       "      <th>longitude_gps</th>\n",
       "      <th>latitude_gps</th>\n",
       "      <th>bank_name_clients</th>\n",
       "      <th>bank_branch_clients</th>\n",
       "      <th>employment_status_clients</th>\n",
       "      <th>level_of_education_clients</th>\n",
       "      <th>birthdate_year</th>\n",
       "      <th>birthdate_month</th>\n",
       "      <th>birthdate_day</th>\n",
       "      <th>bank_total_assets</th>\n",
       "    </tr>\n",
       "  </thead>\n",
       "  <tbody>\n",
       "    <tr>\n",
       "      <th>0</th>\n",
       "      <td>8a858e135cb22031015cbafc76964ebd</td>\n",
       "      <td>1973-10-10</td>\n",
       "      <td>Savings</td>\n",
       "      <td>3.319219</td>\n",
       "      <td>6.528604</td>\n",
       "      <td>GT Bank</td>\n",
       "      <td>NaN</td>\n",
       "      <td>NaN</td>\n",
       "      <td>NaN</td>\n",
       "      <td>1973</td>\n",
       "      <td>10</td>\n",
       "      <td>10</td>\n",
       "      <td>8693261120</td>\n",
       "    </tr>\n",
       "    <tr>\n",
       "      <th>1</th>\n",
       "      <td>8a858e275c7ea5ec015c82482d7c3996</td>\n",
       "      <td>1986-01-21</td>\n",
       "      <td>Savings</td>\n",
       "      <td>3.325598</td>\n",
       "      <td>7.119403</td>\n",
       "      <td>Sterling Bank</td>\n",
       "      <td>NaN</td>\n",
       "      <td>Permanent</td>\n",
       "      <td>NaN</td>\n",
       "      <td>1986</td>\n",
       "      <td>1</td>\n",
       "      <td>21</td>\n",
       "      <td>2294360688</td>\n",
       "    </tr>\n",
       "    <tr>\n",
       "      <th>2</th>\n",
       "      <td>8a858e5b5bd99460015bdc95cd485634</td>\n",
       "      <td>1987-04-01</td>\n",
       "      <td>Savings</td>\n",
       "      <td>5.746100</td>\n",
       "      <td>5.563174</td>\n",
       "      <td>Fidelity Bank</td>\n",
       "      <td>NaN</td>\n",
       "      <td>NaN</td>\n",
       "      <td>NaN</td>\n",
       "      <td>1987</td>\n",
       "      <td>4</td>\n",
       "      <td>1</td>\n",
       "      <td>4200000000</td>\n",
       "    </tr>\n",
       "    <tr>\n",
       "      <th>3</th>\n",
       "      <td>8a858efd5ca70688015cabd1f1e94b55</td>\n",
       "      <td>1991-07-19</td>\n",
       "      <td>Savings</td>\n",
       "      <td>3.362850</td>\n",
       "      <td>6.642485</td>\n",
       "      <td>GT Bank</td>\n",
       "      <td>NaN</td>\n",
       "      <td>Permanent</td>\n",
       "      <td>NaN</td>\n",
       "      <td>1991</td>\n",
       "      <td>7</td>\n",
       "      <td>19</td>\n",
       "      <td>8693261120</td>\n",
       "    </tr>\n",
       "    <tr>\n",
       "      <th>4</th>\n",
       "      <td>8a858e785acd3412015acd48f4920d04</td>\n",
       "      <td>1982-11-22</td>\n",
       "      <td>Savings</td>\n",
       "      <td>8.455332</td>\n",
       "      <td>11.971410</td>\n",
       "      <td>GT Bank</td>\n",
       "      <td>NaN</td>\n",
       "      <td>Permanent</td>\n",
       "      <td>NaN</td>\n",
       "      <td>1982</td>\n",
       "      <td>11</td>\n",
       "      <td>22</td>\n",
       "      <td>8693261120</td>\n",
       "    </tr>\n",
       "  </tbody>\n",
       "</table>\n",
       "</div>"
      ],
      "text/plain": [
       "                         customerid  birthdate bank_account_type  \\\n",
       "0  8a858e135cb22031015cbafc76964ebd 1973-10-10           Savings   \n",
       "1  8a858e275c7ea5ec015c82482d7c3996 1986-01-21           Savings   \n",
       "2  8a858e5b5bd99460015bdc95cd485634 1987-04-01           Savings   \n",
       "3  8a858efd5ca70688015cabd1f1e94b55 1991-07-19           Savings   \n",
       "4  8a858e785acd3412015acd48f4920d04 1982-11-22           Savings   \n",
       "\n",
       "   longitude_gps  latitude_gps bank_name_clients bank_branch_clients  \\\n",
       "0       3.319219      6.528604           GT Bank                 NaN   \n",
       "1       3.325598      7.119403     Sterling Bank                 NaN   \n",
       "2       5.746100      5.563174     Fidelity Bank                 NaN   \n",
       "3       3.362850      6.642485           GT Bank                 NaN   \n",
       "4       8.455332     11.971410           GT Bank                 NaN   \n",
       "\n",
       "  employment_status_clients level_of_education_clients  birthdate_year  \\\n",
       "0                       NaN                        NaN            1973   \n",
       "1                 Permanent                        NaN            1986   \n",
       "2                       NaN                        NaN            1987   \n",
       "3                 Permanent                        NaN            1991   \n",
       "4                 Permanent                        NaN            1982   \n",
       "\n",
       "   birthdate_month  birthdate_day  bank_total_assets  \n",
       "0               10             10         8693261120  \n",
       "1                1             21         2294360688  \n",
       "2                4              1         4200000000  \n",
       "3                7             19         8693261120  \n",
       "4               11             22         8693261120  "
      ]
     },
     "execution_count": 25,
     "metadata": {},
     "output_type": "execute_result"
    }
   ],
   "source": [
    "train_demo.head()"
   ]
  },
  {
   "cell_type": "code",
   "execution_count": null,
   "metadata": {},
   "outputs": [],
   "source": []
  },
  {
   "cell_type": "code",
   "execution_count": null,
   "metadata": {},
   "outputs": [],
   "source": []
  },
  {
   "cell_type": "code",
   "execution_count": null,
   "metadata": {},
   "outputs": [],
   "source": []
  },
  {
   "cell_type": "markdown",
   "metadata": {},
   "source": [
    "## train_perf"
   ]
  },
  {
   "cell_type": "code",
   "execution_count": null,
   "metadata": {},
   "outputs": [],
   "source": [
    "train_perf.head()"
   ]
  },
  {
   "cell_type": "code",
   "execution_count": null,
   "metadata": {},
   "outputs": [],
   "source": [
    "train_perf.info()"
   ]
  },
  {
   "cell_type": "markdown",
   "metadata": {},
   "source": [
    "## train_prev_loans"
   ]
  },
  {
   "cell_type": "code",
   "execution_count": null,
   "metadata": {},
   "outputs": [],
   "source": [
    "train_prev_loans.head()"
   ]
  },
  {
   "cell_type": "code",
   "execution_count": null,
   "metadata": {},
   "outputs": [],
   "source": [
    "train_prev_loans.info()"
   ]
  },
  {
   "cell_type": "code",
   "execution_count": null,
   "metadata": {},
   "outputs": [],
   "source": []
  },
  {
   "cell_type": "markdown",
   "metadata": {},
   "source": [
    "# ATTENTION, TOUT CE QUI EN BAS EST LE CODE D'UNE AUTRE DE MES COMPETITIONS QUE J'UTILISE POUR COPIER COLLER"
   ]
  },
  {
   "cell_type": "markdown",
   "metadata": {},
   "source": [
    "# Jointure entre les X et Y"
   ]
  },
  {
   "cell_type": "code",
   "execution_count": null,
   "metadata": {},
   "outputs": [],
   "source": [
    "# Merge de TX_data et STA_data en utilisant les index comme cléf primaire\n",
    "TX_data = pd.merge(TX_data, STA_data, left_index=True, right_index=True)\n",
    "\n",
    "# On drop les ID qui sont crée dans le processus\n",
    "TX_data.drop([\"ID_y\",\"ID_x\"],inplace=True,axis=1)\n",
    "\n",
    "# On applique tout ce qui peut l'être en numérique\n",
    "TX_data=TX_data.apply(pd.to_numeric, errors='ignore')\n",
    "\n",
    "del STA_data #Je supprime toujours les variables inutiles pour liberer ma RAM (qui est très faible)"
   ]
  },
  {
   "cell_type": "code",
   "execution_count": null,
   "metadata": {},
   "outputs": [],
   "source": [
    "TX_data.info()"
   ]
  },
  {
   "cell_type": "code",
   "execution_count": null,
   "metadata": {},
   "outputs": [],
   "source": [
    "TX_data.SHIPPING_MODE = TX_data.SHIPPING_MODE.astype('category')\n",
    "TX_data.PRICECLUB_STATUS = TX_data.PRICECLUB_STATUS.astype('category')\n",
    "TX_data.SELLER_COUNTRY = TX_data.SELLER_COUNTRY.astype('category')\n",
    "TX_data.PRODUCT_TYPE = TX_data.PRODUCT_TYPE.astype('category')\n",
    "TX_data.PRODUCT_FAMILY = TX_data.PRODUCT_FAMILY.astype('category')"
   ]
  },
  {
   "cell_type": "code",
   "execution_count": null,
   "metadata": {},
   "outputs": [],
   "source": [
    "def b( row):\n",
    "            return 0 if row['CLAIM_TYPE'] == '-' else 1;"
   ]
  },
  {
   "cell_type": "code",
   "execution_count": null,
   "metadata": {},
   "outputs": [],
   "source": [
    "TX_data['IS_CLAIM'] = TX_data.apply(b, axis=1)"
   ]
  },
  {
   "cell_type": "markdown",
   "metadata": {},
   "source": [
    "# DATA VIZ : Analyse des tendances centrales"
   ]
  },
  {
   "cell_type": "code",
   "execution_count": null,
   "metadata": {},
   "outputs": [],
   "source": [
    "def simple_describer_categorial(data, target):\n",
    "    X=data.copy()\n",
    "    print(target+\" DESCRIBE    ____________________________________________\\n\")\n",
    "    print(X[target].describe());\n",
    "    print(\"\\n\\n\"+target+\" STAT ____________________________________________\\n\")\n",
    "    temp=X['IS_CLAIM'].groupby(TX_data[target]).describe().reset_index()\n",
    "    temp.columns=[target,\"count\",\"mean\",\"std\",\"t_1\",\"t_2\",\"t_3\",\"t_4\",\"t_5\"]\n",
    "    temp.drop([\"t_1\",\"t_2\",\"t_3\",\"t_4\",\"t_5\"], axis=1, inplace=True)\n",
    "    temp.sort_values(by=\"mean\",ascending=False, inplace=True)\n",
    "    print(temp)\n",
    "    print(\"\\n\\n\"+target+\" MEAN     _____________________________________________\\n\")\n",
    "    sns.barplot(y=target, \n",
    "              x=\"mean\", \n",
    "              data=temp, \n",
    "              palette=\"Greens_d\")"
   ]
  },
  {
   "cell_type": "code",
   "execution_count": null,
   "metadata": {},
   "outputs": [],
   "source": [
    "def simple_describer_bool(data, target):\n",
    "    X=data.copy()\n",
    "    print(target+\" DESCRIBE    ____________________________________________\\n\")\n",
    "    print(X[target].describe());\n",
    "    print(\"\\n\\n\"+target+\" STAT ____________________________________________\\n\")\n",
    "    temp=X['IS_CLAIM'].groupby(TX_data[target]).describe().reset_index()\n",
    "    temp.columns=[target,\"count\",\"mean\",\"std\",\"t_1\",\"t_2\",\"t_3\",\"t_4\",\"t_5\"]\n",
    "    temp.drop([\"t_1\",\"t_2\",\"t_3\",\"t_4\",\"t_5\"], axis=1, inplace=True)\n",
    "    temp.sort_values(by=\"mean\",ascending=False, inplace=True)\n",
    "    print(temp)\n",
    "    print(\"\\n\\n\"+target+\" MEAN     _____________________________________________\\n\")\n",
    "    sns.barplot(y=\"mean\",\n",
    "              data=temp, \n",
    "              palette=\"Greens_d\")"
   ]
  },
  {
   "cell_type": "markdown",
   "metadata": {},
   "source": [
    "### SHIPPING_MODE           99685 non-null object"
   ]
  },
  {
   "cell_type": "code",
   "execution_count": null,
   "metadata": {},
   "outputs": [],
   "source": [
    "simple_describer_categorial(TX_data, \"SHIPPING_MODE\")"
   ]
  },
  {
   "cell_type": "markdown",
   "metadata": {},
   "source": [
    "#### Analyse:\n",
    "Je ne comprends pas pourquoi cette légère tendance.\n",
    "\n",
    "Aller chercher son colis, ou se le faire livrer chez soi ne semble pas apporter quelque chose"
   ]
  },
  {
   "cell_type": "markdown",
   "metadata": {},
   "source": [
    "### SHIPPING_PRICE          32390 non-null object"
   ]
  },
  {
   "cell_type": "code",
   "execution_count": null,
   "metadata": {},
   "outputs": [],
   "source": [
    "simple_describer_categorial(TX_data, \"SHIPPING_PRICE\")"
   ]
  },
  {
   "cell_type": "markdown",
   "metadata": {},
   "source": [
    "#### Analyse:\n",
    "\n",
    "Il semble que des frais d'envois chers créent des claims. Mais c'est peût être pas significatif, en effet, il y a quand même peu de vente avec des frais chers"
   ]
  },
  {
   "cell_type": "markdown",
   "metadata": {},
   "source": [
    "### WARRANTIES_FLG          100000 non-null bool"
   ]
  },
  {
   "cell_type": "code",
   "execution_count": null,
   "metadata": {
    "scrolled": false
   },
   "outputs": [],
   "source": [
    "simple_describer_bool(TX_data, \"WARRANTIES_FLG\")"
   ]
  },
  {
   "cell_type": "markdown",
   "metadata": {},
   "source": [
    "#### Analyse:\n",
    "\n",
    "Avoir une garantie semble ajouter légèrement de la proba de claims"
   ]
  },
  {
   "cell_type": "markdown",
   "metadata": {},
   "source": [
    "### WARRANTIES_PRICE        3397 non-null object\n"
   ]
  },
  {
   "cell_type": "code",
   "execution_count": null,
   "metadata": {
    "scrolled": false
   },
   "outputs": [],
   "source": [
    "simple_describer_categorial(TX_data, \"WARRANTIES_PRICE\")"
   ]
  },
  {
   "cell_type": "markdown",
   "metadata": {},
   "source": [
    "#### Analyse:\n",
    "\n",
    "C'est pas clair pourquoi soit les toutes petites ou soit les très grosses sont si faibles. En revanche avoir une garantie donne tendance à faire une Claim.\n",
    "\n",
    "Ou pourrait transformer ça en variable binaire : 50<100 et 20<50 et 5<20 à 1, les deux autres à 0"
   ]
  },
  {
   "cell_type": "markdown",
   "metadata": {},
   "source": [
    "### CARD_PAYMENT            100000 non-null int64"
   ]
  },
  {
   "cell_type": "code",
   "execution_count": null,
   "metadata": {},
   "outputs": [],
   "source": [
    "TX_data.CARD_PAYMENT=TX_data.CARD_PAYMENT.astype('bool')"
   ]
  },
  {
   "cell_type": "code",
   "execution_count": null,
   "metadata": {
    "scrolled": false
   },
   "outputs": [],
   "source": [
    "simple_describer_bool(TX_data, \"CARD_PAYMENT\")"
   ]
  },
  {
   "cell_type": "markdown",
   "metadata": {},
   "source": [
    "#### Analyse\n",
    "\n",
    "Franchement, 50% et en plus uns STD si faible? Ca dégage"
   ]
  },
  {
   "cell_type": "markdown",
   "metadata": {},
   "source": [
    "### COUPON_PAYMENT          100000 non-null int64\n"
   ]
  },
  {
   "cell_type": "code",
   "execution_count": null,
   "metadata": {},
   "outputs": [],
   "source": [
    "TX_data.COUPON_PAYMENT=TX_data.COUPON_PAYMENT.astype('bool')"
   ]
  },
  {
   "cell_type": "code",
   "execution_count": null,
   "metadata": {
    "scrolled": false
   },
   "outputs": [],
   "source": [
    "simple_describer_bool(TX_data, \"COUPON_PAYMENT\")"
   ]
  },
  {
   "cell_type": "markdown",
   "metadata": {},
   "source": [
    "#### Analyse\n",
    "\n",
    "Franchement, 50% et en plus uns STD si faible? Ca dégage"
   ]
  },
  {
   "cell_type": "markdown",
   "metadata": {},
   "source": [
    "### RSP_PAYMENT             100000 non-null int64\n"
   ]
  },
  {
   "cell_type": "code",
   "execution_count": null,
   "metadata": {},
   "outputs": [],
   "source": [
    "TX_data.RSP_PAYMENT=TX_data.RSP_PAYMENT.astype('bool')"
   ]
  },
  {
   "cell_type": "code",
   "execution_count": null,
   "metadata": {
    "scrolled": false
   },
   "outputs": [],
   "source": [
    "simple_describer_bool(TX_data, \"RSP_PAYMENT\")"
   ]
  },
  {
   "cell_type": "markdown",
   "metadata": {},
   "source": [
    "#### Analyse\n",
    "\n",
    "Franchement, 50% et en plus uns STD si faible? Ca dégage"
   ]
  },
  {
   "cell_type": "markdown",
   "metadata": {},
   "source": [
    "### WALLET_PAYMENT          100000 non-null int64\n"
   ]
  },
  {
   "cell_type": "code",
   "execution_count": null,
   "metadata": {},
   "outputs": [],
   "source": [
    "TX_data.WALLET_PAYMENT=TX_data.WALLET_PAYMENT.astype('bool')"
   ]
  },
  {
   "cell_type": "code",
   "execution_count": null,
   "metadata": {
    "scrolled": false
   },
   "outputs": [],
   "source": [
    "simple_describer_bool(TX_data, \"WALLET_PAYMENT\")"
   ]
  },
  {
   "cell_type": "markdown",
   "metadata": {},
   "source": [
    "#### Analyse\n",
    "\n",
    "Franchement, 50% et en plus uns STD inexistante? Ca dégage"
   ]
  },
  {
   "cell_type": "markdown",
   "metadata": {},
   "source": [
    "### PRICECLUB_STATUS        99943 non-null object\n"
   ]
  },
  {
   "cell_type": "code",
   "execution_count": null,
   "metadata": {},
   "outputs": [],
   "source": [
    "simple_describer_categorial(TX_data, \"PRICECLUB_STATUS\")"
   ]
  },
  {
   "cell_type": "markdown",
   "metadata": {},
   "source": [
    "#### Analyse:\n",
    "\n",
    "Franchement, je pense que ce n'est qu'une bête variation statistique cet effet. Tout le monde est autour de 50%"
   ]
  },
  {
   "cell_type": "markdown",
   "metadata": {},
   "source": [
    "### REGISTRATION_DATE       100000 non-null int64\n"
   ]
  },
  {
   "cell_type": "code",
   "execution_count": null,
   "metadata": {
    "scrolled": true
   },
   "outputs": [],
   "source": [
    "sns.distplot(TX_data.REGISTRATION_DATE);"
   ]
  },
  {
   "cell_type": "markdown",
   "metadata": {},
   "source": [
    "#### Analyse:\n",
    "\n",
    "Beaucoup de nouveaux arrivants"
   ]
  },
  {
   "cell_type": "code",
   "execution_count": null,
   "metadata": {},
   "outputs": [],
   "source": [
    "simple_describer_categorial(TX_data, \"REGISTRATION_DATE\")"
   ]
  },
  {
   "cell_type": "markdown",
   "metadata": {},
   "source": [
    "#### Analyse\n",
    "\n",
    "J'ai envie de dire que plus tu es un vieux client, moins tu te plains"
   ]
  },
  {
   "cell_type": "markdown",
   "metadata": {},
   "source": [
    "### PURCHASE_COUNT          100000 non-null object\n"
   ]
  },
  {
   "cell_type": "code",
   "execution_count": null,
   "metadata": {
    "scrolled": false
   },
   "outputs": [],
   "source": [
    "simple_describer_categorial(TX_data, \"PURCHASE_COUNT\")"
   ]
  },
  {
   "cell_type": "markdown",
   "metadata": {},
   "source": [
    "#### Analyse:\n",
    "\n",
    "Moins la personne a acheté, plus elle va péter les bonbons. Attention, cette variable doit être mille fois colinéaire avec la date d'entrée"
   ]
  },
  {
   "cell_type": "markdown",
   "metadata": {},
   "source": [
    "### BUYER_BIRTHDAY_DATE     94164 non-null float64\n"
   ]
  },
  {
   "cell_type": "code",
   "execution_count": null,
   "metadata": {},
   "outputs": [],
   "source": [
    "simple_describer_categorial(TX_data, \"BUYER_BIRTHDAY_DATE\")"
   ]
  },
  {
   "cell_type": "code",
   "execution_count": null,
   "metadata": {
    "scrolled": false
   },
   "outputs": [],
   "source": [
    "sns.distplot(TX_data.BUYER_BIRTHDAY_DATE.fillna(1900, inplace=False));"
   ]
  },
  {
   "cell_type": "markdown",
   "metadata": {},
   "source": [
    "#### Analyse\n",
    "\n",
    "Classique, des données manquantes (mes 1900), et des données abhérantes comme des gars trés jeunes (2 ans les pépères).\n",
    "\n",
    "Mais en moyenne, c'est des vieux croutons qui se promènent sur le site (1976)"
   ]
  },
  {
   "cell_type": "code",
   "execution_count": null,
   "metadata": {},
   "outputs": [],
   "source": [
    "simple_describer_categorial(TX_data, \"BUYER_BIRTHDAY_DATE\")"
   ]
  },
  {
   "cell_type": "markdown",
   "metadata": {},
   "source": [
    "### BUYER_DEPARTMENT        100000 non-null int64\n"
   ]
  },
  {
   "cell_type": "code",
   "execution_count": null,
   "metadata": {},
   "outputs": [],
   "source": [
    "simple_describer_categorial(TX_data, \"BUYER_DEPARTMENT\")"
   ]
  },
  {
   "cell_type": "code",
   "execution_count": null,
   "metadata": {},
   "outputs": [],
   "source": [
    "temp=TX_data['IS_CLAIM'].groupby(TX_data[\"BUYER_DEPARTMENT\"]).describe()"
   ]
  },
  {
   "cell_type": "code",
   "execution_count": null,
   "metadata": {},
   "outputs": [],
   "source": [
    "! pip install pygal_maps_fr"
   ]
  },
  {
   "cell_type": "code",
   "execution_count": null,
   "metadata": {
    "scrolled": false
   },
   "outputs": [],
   "source": [
    "from IPython.display import SVG, HTML\n",
    "import pygal\n",
    "html_pygal = \"\"\"\n",
    "<!DOCTYPE html>\n",
    "<html>\n",
    "  <head>\n",
    "    <!-- ... -->\n",
    "  </head>\n",
    "  <body>\n",
    "    <figure>\n",
    "      {pygal_render}\n",
    "    </figure>\n",
    "  </body>\n",
    "</html>\n",
    "\"\"\"\n",
    "\n",
    "line_chart = pygal.Line()\n",
    "fr_chart = pygal.maps.fr.Departments()\n",
    "fr_chart.title = 'Some departments'\n",
    "fr_chart.add(\"mean\",temp[\"mean\"].to_dict())\n",
    "fr_chart.render()\n",
    "HTML(html_pygal.format(pygal_render=fr_chart.render()))"
   ]
  },
  {
   "cell_type": "code",
   "execution_count": null,
   "metadata": {},
   "outputs": [],
   "source": [
    "del temp"
   ]
  },
  {
   "cell_type": "markdown",
   "metadata": {},
   "source": [
    "### BUYING_DATE             100000 non-null object\n"
   ]
  },
  {
   "cell_type": "code",
   "execution_count": null,
   "metadata": {
    "scrolled": false
   },
   "outputs": [],
   "source": [
    "simple_describer_categorial(TX_data, \"BUYING_DATE\")"
   ]
  },
  {
   "cell_type": "markdown",
   "metadata": {},
   "source": [
    "#### Analyse:\n",
    "\n",
    "Variable à virer, c'est clair"
   ]
  },
  {
   "cell_type": "markdown",
   "metadata": {},
   "source": [
    "### SELLER_SCORE_COUNT      99994 non-null object\n"
   ]
  },
  {
   "cell_type": "code",
   "execution_count": null,
   "metadata": {
    "scrolled": false
   },
   "outputs": [],
   "source": [
    "simple_describer_categorial(TX_data, \"SELLER_SCORE_COUNT\")"
   ]
  },
  {
   "cell_type": "markdown",
   "metadata": {},
   "source": [
    "#### Analyse:\n",
    "\n",
    "A notre grande surprise : les vendeurs bien notés ont moins de chance de faire des claims"
   ]
  },
  {
   "cell_type": "markdown",
   "metadata": {},
   "source": [
    "### SELLER_SCORE_AVERAGE    99994 non-null float64\n"
   ]
  },
  {
   "cell_type": "code",
   "execution_count": null,
   "metadata": {},
   "outputs": [],
   "source": [
    "simple_describer_categorial(TX_data, \"SELLER_SCORE_AVERAGE\")"
   ]
  },
  {
   "cell_type": "markdown",
   "metadata": {},
   "source": [
    "### SELLER_COUNTRY          100000 non-null object\n"
   ]
  },
  {
   "cell_type": "code",
   "execution_count": null,
   "metadata": {
    "scrolled": false
   },
   "outputs": [],
   "source": [
    "simple_describer_categorial(TX_data, \"SELLER_COUNTRY\")"
   ]
  },
  {
   "cell_type": "markdown",
   "metadata": {},
   "source": [
    "#### Analyse:\n",
    "\n",
    "Quelques pays à problèmes, mais pas forcément significatif à cause du faible nombre de ventes de certains.\n",
    "\n",
    "Exemple : La grèce : une vente => une claim"
   ]
  },
  {
   "cell_type": "markdown",
   "metadata": {},
   "source": [
    "### SELLER_DEPARTMENT       100000 non-null int64\n"
   ]
  },
  {
   "cell_type": "code",
   "execution_count": null,
   "metadata": {},
   "outputs": [],
   "source": [
    "simple_describer_categorial(TX_data, \"SELLER_DEPARTMENT\")"
   ]
  },
  {
   "cell_type": "code",
   "execution_count": null,
   "metadata": {},
   "outputs": [],
   "source": [
    "temp=TX_data['IS_CLAIM'].groupby(TX_data[\"SELLER_DEPARTMENT\"]).describe()"
   ]
  },
  {
   "cell_type": "code",
   "execution_count": null,
   "metadata": {},
   "outputs": [],
   "source": [
    "from IPython.display import SVG, HTML\n",
    "import pygal\n",
    "html_pygal = \"\"\"\n",
    "<!DOCTYPE html>\n",
    "<html>\n",
    "  <head>\n",
    "    <!-- ... -->\n",
    "  </head>\n",
    "  <body>\n",
    "    <figure>\n",
    "      {pygal_render}\n",
    "    </figure>\n",
    "  </body>\n",
    "</html>\n",
    "\"\"\"\n",
    "\n",
    "line_chart = pygal.Line()\n",
    "fr_chart = pygal.maps.fr.Departments()\n",
    "fr_chart.title = 'SELLER_DEPARTMENT'\n",
    "fr_chart.add(\"mean\",temp[\"mean\"].to_dict())\n",
    "fr_chart.render()\n",
    "HTML(html_pygal.format(pygal_render=fr_chart.render()))\n"
   ]
  },
  {
   "cell_type": "code",
   "execution_count": null,
   "metadata": {},
   "outputs": [],
   "source": [
    "del temp"
   ]
  },
  {
   "cell_type": "markdown",
   "metadata": {},
   "source": [
    "### Analyse\n",
    "\n",
    "On remercie les Hautes Pyrénées qui ne font pas chier le monde : 18% de claims\n",
    "\n",
    "Et la Sarthe qui ne va pas du tout\n",
    "\n",
    "Des valeurs abhérantes comme d'habitude (les -1)"
   ]
  },
  {
   "cell_type": "markdown",
   "metadata": {},
   "source": [
    "### PRODUCT_TYPE            100000 non-null object\n"
   ]
  },
  {
   "cell_type": "code",
   "execution_count": null,
   "metadata": {
    "scrolled": false
   },
   "outputs": [],
   "source": [
    "simple_describer_categorial(TX_data, \"PRODUCT_TYPE\")"
   ]
  },
  {
   "cell_type": "markdown",
   "metadata": {},
   "source": [
    "### Analyse\n",
    "\n",
    "Houuuu la belle dstribution jolie, il y a peût être une transformation judicieuse à faire. Dans tout les cas on garde"
   ]
  },
  {
   "cell_type": "markdown",
   "metadata": {},
   "source": [
    "### PRODUCT_FAMILY          100000 non-null object\n"
   ]
  },
  {
   "cell_type": "code",
   "execution_count": null,
   "metadata": {
    "scrolled": false
   },
   "outputs": [],
   "source": [
    "simple_describer_categorial(TX_data, \"PRODUCT_FAMILY\")"
   ]
  },
  {
   "cell_type": "markdown",
   "metadata": {},
   "source": [
    "### Analyse\n",
    "\n",
    "On voit clairement des zones à problème"
   ]
  },
  {
   "cell_type": "markdown",
   "metadata": {},
   "source": [
    "### ITEM_PRICE              100000 non-null object\n"
   ]
  },
  {
   "cell_type": "code",
   "execution_count": null,
   "metadata": {},
   "outputs": [],
   "source": [
    "simple_describer_categorial(TX_data, \"ITEM_PRICE\")"
   ]
  },
  {
   "cell_type": "markdown",
   "metadata": {},
   "source": [
    "### Analyse\n",
    "\n",
    "Les petits montants font moins de claims. Logique"
   ]
  },
  {
   "cell_type": "markdown",
   "metadata": {},
   "source": [
    "## Bilan\n",
    "\n",
    "On voit clairement des trucs qui peuvent juste être flag \"A Risque\" comme les types de produits, ou les pays"
   ]
  },
  {
   "cell_type": "markdown",
   "metadata": {},
   "source": [
    "Je propose de virer déjà les types de paiement. Ils ne se différentient pas entre eux.\n",
    "\n",
    "Ainsi que la \"BUYING_DATE\", elle ne semble apporter rien du tout"
   ]
  },
  {
   "cell_type": "code",
   "execution_count": null,
   "metadata": {},
   "outputs": [],
   "source": [
    "TX_data.drop(['CARD_PAYMENT','COUPON_PAYMENT','RSP_PAYMENT','WALLET_PAYMENT', \"BUYING_DATE\"], axis = 1, inplace = True)"
   ]
  },
  {
   "cell_type": "markdown",
   "metadata": {},
   "source": [
    "## Corrélation entre les variables numériques"
   ]
  },
  {
   "cell_type": "code",
   "execution_count": null,
   "metadata": {},
   "outputs": [],
   "source": [
    "colormap = plt.cm.BrBG\n",
    "plt.figure(figsize=(12,12))\n",
    "plt.title('Pearson Correlation of Features', y=1.05, size=15)\n",
    "sns.heatmap(TX_data.apply(pd.to_numeric, errors='ignore').select_dtypes(exclude=['object']).astype(float).corr(method='spearman'),\n",
    "            linewidths=0.1,\n",
    "            vmax=1.0, \n",
    "            square=True, \n",
    "            cmap=colormap, \n",
    "            linecolor='white',\n",
    "            annot=True)"
   ]
  },
  {
   "cell_type": "markdown",
   "metadata": {},
   "source": [
    "#### Analyse\n",
    "\n",
    "Quelques corrélations linéaires:\n",
    "1. Entre les dates de registration et d'anniversaire\n",
    "2. Le score des vendeurs en fonction du département\n",
    "3. Le score du vendeur et le taux de claim (logique)\n",
    "\n",
    "La règle tacite est que:\n",
    "* Une corélation en dessous de 0.10 n'est rien\n",
    "* Entre 0.10 et 0.25 : Faible\n",
    "* Moyenne entre 0.25 et 0.50\n",
    "* Forte au dessus\n",
    "\n",
    "Test de Spearman à vérifier les conditions initiales"
   ]
  },
  {
   "cell_type": "code",
   "execution_count": null,
   "metadata": {},
   "outputs": [],
   "source": [
    "cat_columns = TX_data.select_dtypes(['category']).columns\n",
    "cat_columns\n",
    "TX_data[cat_columns] = TX_data[cat_columns].apply(lambda x: x.cat.codes)"
   ]
  },
  {
   "cell_type": "code",
   "execution_count": null,
   "metadata": {},
   "outputs": [],
   "source": [
    "colormap = plt.cm.BrBG\n",
    "plt.figure(figsize=(12,12))\n",
    "plt.title('Pearson Correlation of Features', y=1.05, size=15)\n",
    "sns.heatmap(TX_data.apply(pd.to_numeric, errors='ignore').select_dtypes(exclude=['object']).astype(float).corr(method='spearman'),\n",
    "            linewidths=0.1,\n",
    "            vmax=1.0, \n",
    "            square=True, \n",
    "            cmap=colormap, \n",
    "            linecolor='white',\n",
    "            annot=True)"
   ]
  },
  {
   "cell_type": "markdown",
   "metadata": {},
   "source": [
    "### Analyse:\n",
    "\n",
    "Cool! Je ne vois rien\n",
    "\n",
    "D'après le cours suivant, il faut bien dégager les variables corrélées pour utiliser des arbres de décisions (modèles linéaires, c'est évident) : http://www.xavierdupre.fr/app/ensae_teaching_cs/helpsphinx/notebooks/ml_ccc_machine_learning_interpretabilite.html\n",
    "\n",
    "C'est pour ça que j'ai immédiatement dégagé la variable XXX_MAX que je construisait en même temps que XXX_MIN dans Splitter.\n",
    "\n",
    "Et là, il faut choisir quoi virer"
   ]
  }
 ],
 "metadata": {
  "kernelspec": {
   "display_name": "Python 3",
   "language": "python",
   "name": "python3"
  },
  "language_info": {
   "codemirror_mode": {
    "name": "ipython",
    "version": 3
   },
   "file_extension": ".py",
   "mimetype": "text/x-python",
   "name": "python",
   "nbconvert_exporter": "python",
   "pygments_lexer": "ipython3",
   "version": "3.6.6"
  }
 },
 "nbformat": 4,
 "nbformat_minor": 2
}
